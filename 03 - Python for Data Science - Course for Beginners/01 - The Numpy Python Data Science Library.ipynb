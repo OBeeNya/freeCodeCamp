{
 "cells": [
  {
   "cell_type": "code",
   "execution_count": 7,
   "id": "a1839af8",
   "metadata": {},
   "outputs": [],
   "source": [
    "# All elements in np.array must be of the same type / homogeneous"
   ]
  },
  {
   "cell_type": "code",
   "execution_count": 8,
   "id": "984ea135",
   "metadata": {},
   "outputs": [
    {
     "name": "stdout",
     "output_type": "stream",
     "text": [
      "[1 2 3 4] [1 2 3 4]\n"
     ]
    }
   ],
   "source": [
    "# An array can be defined from either a list or a tuple\n",
    "import numpy as np\n",
    "a = np.array([1,2,3,4])\n",
    "b = np.array((1,2,3,4))\n",
    "print(a, b)"
   ]
  },
  {
   "cell_type": "code",
   "execution_count": 9,
   "id": "5e134079",
   "metadata": {},
   "outputs": [
    {
     "name": "stdout",
     "output_type": "stream",
     "text": [
      "[1. 2. 3. 4.] [1 2 3 4]\n"
     ]
    }
   ],
   "source": [
    "# You can manually specify the data type of an array\n",
    "a = np.array([1,2,3,4], dtype='f')\n",
    "b = np.array([1,2,3,4], dtype='i')\n",
    "print(a, b)"
   ]
  },
  {
   "cell_type": "code",
   "execution_count": 10,
   "id": "2525217d",
   "metadata": {},
   "outputs": [
    {
     "name": "stdout",
     "output_type": "stream",
     "text": [
      "3\n"
     ]
    }
   ],
   "source": [
    "# The dimension of an array corresponds to the number of indexes necessary to access the deepest element\n",
    "a = np.array([[[1,2,3],[4,5,6]],[[1,2,3],[4,5,6]]])\n",
    "print(a.ndim)"
   ]
  },
  {
   "cell_type": "code",
   "execution_count": 11,
   "id": "1e99d9e2",
   "metadata": {},
   "outputs": [],
   "source": [
    "# All \"sub-arrays\" must have the same number of elements\n",
    "# Think of matrices, where each line inside a matrix must have the same length\n",
    "# a = np.array([[1,2,3],[4,5,6,7]])\n",
    "# a[1,2] will return an error"
   ]
  },
  {
   "cell_type": "code",
   "execution_count": 12,
   "id": "fdf2e41f",
   "metadata": {},
   "outputs": [
    {
     "name": "stdout",
     "output_type": "stream",
     "text": [
      "(2, 2, 3)\n",
      "3\n",
      "12\n",
      "6\n",
      "48\n",
      "24\n"
     ]
    }
   ],
   "source": [
    "a = np.array([[[1,2,3],[4,5,6]],[[1,2,3],[4,5,6]]])\n",
    "\n",
    "# The shape attribute returns the number of elements at each dimension\n",
    "print(a.shape)\n",
    "# or the number of elements at a given dimension\n",
    "print(a.shape[2])\n",
    "\n",
    "# The size attribute returns the total number of elements\n",
    "print(a.size)\n",
    "# or the number of elements inside a given dimension\n",
    "print(a[1].size)\n",
    "\n",
    "# The nbytes attributes returns the total number of bytes taken by a structure\n",
    "print(a.nbytes)\n",
    "# or taken by a given dimension\n",
    "print(a[1].nbytes)\n",
    "\n",
    "# Type \"a.\" + tab to see the list of attributes you can use on an array"
   ]
  },
  {
   "cell_type": "code",
   "execution_count": 13,
   "id": "549f6ea6",
   "metadata": {},
   "outputs": [],
   "source": [
    "# Numpy provides a number of different ways to create / manage arrays"
   ]
  },
  {
   "cell_type": "code",
   "execution_count": 14,
   "id": "d17b8a88",
   "metadata": {
    "tags": []
   },
   "outputs": [
    {
     "name": "stdout",
     "output_type": "stream",
     "text": [
      "[0 1 2 3 4 5 6 7 8 9]\n",
      "[5 6 7 8 9]\n",
      "[5 7 9]\n"
     ]
    }
   ],
   "source": [
    "# np.arange(n) creates a 1-dim array of length n with values from 0 to n-1\n",
    "print(np.arange(10))\n",
    "# You can specify the starting value\n",
    "print(np.arange(5,10))\n",
    "# as well as the steps\n",
    "print(np.arange(5,10,2))"
   ]
  },
  {
   "cell_type": "code",
   "execution_count": 15,
   "id": "bae815ac",
   "metadata": {},
   "outputs": [
    {
     "name": "stdout",
     "output_type": "stream",
     "text": [
      "[1 8 3 9 2 6 0 5 7 4]\n",
      "13\n",
      "[0.21703317 0.792183   0.93475845 0.10753315 0.15872698]\n",
      "[[0.84319894 0.87930953 0.23856876]\n",
      " [0.87984534 0.04764035 0.10058482]]\n",
      "[ 0.74204956 -1.58358563 -0.43405096 -0.08377805  0.10050605]\n"
     ]
    }
   ],
   "source": [
    "# np.random.permutation returns a randomly shuffled version of an array\n",
    "print(np.random.permutation(np.arange(10)))\n",
    "\n",
    "# np.random.randint returns a random integer in a range\n",
    "print(np.random.randint(10,20))\n",
    "\n",
    "# np.random.rand returns random numbers between 0 and 1, uniformly distributed\n",
    "print(np.random.rand(5))\n",
    "# You can specify the dimensions of the random matrix\n",
    "print(np.random.rand(2,3))\n",
    "\n",
    "# np.random.randn returns random normal numbers, gaussian distribution\n",
    "print(np.random.randn(5))"
   ]
  },
  {
   "cell_type": "code",
   "execution_count": 16,
   "id": "03e4ca2b",
   "metadata": {},
   "outputs": [
    {
     "name": "stdout",
     "output_type": "stream",
     "text": [
      "[[[1 2 3]\n",
      "  [4 5 6]]\n",
      "\n",
      " [[1 2 3]\n",
      "  [4 5 6]]]\n",
      "(2, 2, 3)\n",
      "[[1 2]\n",
      " [3 4]\n",
      " [5 6]\n",
      " [1 2]\n",
      " [3 4]\n",
      " [5 6]]\n"
     ]
    }
   ],
   "source": [
    "# .reshape takes all the elements of an array and reshape it to the specified dimensions\n",
    "a = np.array([[[1,2,3],[4,5,6]],[[1,2,3],[4,5,6]]])\n",
    "print(a)\n",
    "print(a.shape)\n",
    "\n",
    "b = a.reshape(6,2)\n",
    "print(b)\n",
    "\n",
    "# The reshaped array must have the same size"
   ]
  },
  {
   "cell_type": "code",
   "execution_count": 17,
   "id": "0c3218ba",
   "metadata": {},
   "outputs": [
    {
     "name": "stdout",
     "output_type": "stream",
     "text": [
      "[[0. 0. 0.]\n",
      " [0. 0. 0.]]\n",
      "[[1. 1. 1.]\n",
      " [1. 1. 1.]]\n"
     ]
    }
   ],
   "source": [
    "# np.zeros returns an array/matrix filled with zeros\n",
    "print(np.zeros((2,3)))\n",
    "\n",
    "# np.ones returns an array/matrix filled with ones\n",
    "print(np.ones((2,3)))"
   ]
  },
  {
   "cell_type": "code",
   "execution_count": 18,
   "id": "b87c8f10",
   "metadata": {},
   "outputs": [
    {
     "name": "stdout",
     "output_type": "stream",
     "text": [
      "[6, 3, 4]\n",
      "[1, 2, 3, 4, 5]\n",
      "[6 3 4]\n",
      "[1 6 3 4 5]\n",
      "[6 3 4]\n",
      "[1 2 3 4 5]\n"
     ]
    }
   ],
   "source": [
    "# An important difference between slicing lists and slicing np arrays:\n",
    "# slicing a list creates a copy while when slicing a np array , you're accessing the same memory view\n",
    "a = [1,2,3,4,5]\n",
    "b = a[1:4]\n",
    "b[0] = 6\n",
    "print(b)\n",
    "print(a) # a is not modified\n",
    "\n",
    "a = np.array([1,2,3,4,5])\n",
    "b = a[1:4]\n",
    "b[0] = 6\n",
    "print(b)\n",
    "print(a) # a is modified\n",
    "\n",
    "# To prevent that you can make a copy of the np array:\n",
    "a = np.array([1,2,3,4,5])\n",
    "b = a[1:4].copy()\n",
    "b[0] = 6\n",
    "print(b)\n",
    "print(a) # a is not modified"
   ]
  },
  {
   "cell_type": "code",
   "execution_count": 19,
   "id": "b6cef84c",
   "metadata": {},
   "outputs": [
    {
     "name": "stdout",
     "output_type": "stream",
     "text": [
      "[[25]]\n"
     ]
    }
   ],
   "source": [
    "# You can find the indices of a value in an array with np.argwhere\n",
    "a = np.arange(50)\n",
    "idx = np.argwhere(a==25)\n",
    "print(idx)"
   ]
  },
  {
   "cell_type": "code",
   "execution_count": 37,
   "id": "e1947820",
   "metadata": {},
   "outputs": [
    {
     "name": "stdout",
     "output_type": "stream",
     "text": [
      "[[ 1 11  1 10]\n",
      " [ 1 15 15  8]\n",
      " [ 5  5  8 13]\n",
      " [ 3  1  4  1]]\n",
      "[[ 1  1  5  3]\n",
      " [11 15  5  1]\n",
      " [ 1 15  8  4]\n",
      " [10  8 13  1]]\n"
     ]
    }
   ],
   "source": [
    "# .T to transpose a matrix\n",
    "a = np.random.randint(16,size=(4,4))\n",
    "print(a)\n",
    "print(a.T)"
   ]
  },
  {
   "cell_type": "code",
   "execution_count": 43,
   "id": "516cb1ab",
   "metadata": {},
   "outputs": [
    {
     "name": "stdout",
     "output_type": "stream",
     "text": [
      "[[ 0.11055777 -0.08864542 -0.06374502  0.43227092]\n",
      " [ 0.10806773  0.0124502  -0.10059761  0.12749004]\n",
      " [-0.10507968  0.06623506  0.04482072 -0.06175299]\n",
      " [-0.01942231 -0.01145418  0.1125498  -0.17729084]]\n",
      "[[ 1.00000000e+00 -2.77555756e-17 -2.22044605e-16  4.44089210e-16]\n",
      " [ 1.66533454e-16  1.00000000e+00  0.00000000e+00  2.22044605e-16]\n",
      " [ 1.11022302e-16 -2.77555756e-17  1.00000000e+00  0.00000000e+00]\n",
      " [ 4.85722573e-17  3.64291930e-17 -4.16333634e-17  1.00000000e+00]]\n"
     ]
    }
   ],
   "source": [
    "# numpy.linalg provides a lot of linear algebra functions\n",
    "import numpy.linalg as la\n",
    "print(la.inv(a))\n",
    "print(a.dot(la.inv(a)))"
   ]
  },
  {
   "cell_type": "code",
   "execution_count": 48,
   "id": "413c9d7f",
   "metadata": {},
   "outputs": [
    {
     "name": "stdout",
     "output_type": "stream",
     "text": [
      "[[ 1  1  1  1]\n",
      " [ 1  4  5  8]\n",
      " [ 3  8 10 11]\n",
      " [ 5 13 15 15]]\n",
      "[[ 1  1  1  1]\n",
      " [ 1  4  5  8]\n",
      " [ 3  8 10 11]\n",
      " [ 5 13 15 15]]\n"
     ]
    }
   ],
   "source": [
    "# You can act specifically on rows or columns\n",
    "a.sort(axis=0)\n",
    "print(a)\n",
    "a.sort(axis=1)\n",
    "print(a)"
   ]
  },
  {
   "cell_type": "code",
   "execution_count": 66,
   "id": "735d6d82",
   "metadata": {},
   "outputs": [
    {
     "name": "stdout",
     "output_type": "stream",
     "text": [
      "[3 5]\n",
      "[1 3 5]\n",
      "[ True  True  True False False]\n",
      "[False False  True  True False]\n"
     ]
    }
   ],
   "source": [
    "# Other powerful indexing actions\n",
    "\n",
    "# By using an index array, you can specifically tell which index you want\n",
    "a = np.array([1,2,3,4,5])\n",
    "print(a[[2,4]])\n",
    "\n",
    "# You can use booleans with an index array to specify which index you're interested in\n",
    "print(a[[True, False, True, False, True]])\n",
    "\n",
    "# When using an index array (or masking), you're making a copy and not just viewing the array\n",
    "\n",
    "# You can create a boolean array with a condition\n",
    "print(a<4)\n",
    "\n",
    "# You can use &, |, ~ (not and, or, not) in arrays to combine conditions\n",
    "print((a>2) & (a<5))"
   ]
  },
  {
   "cell_type": "code",
   "execution_count": 72,
   "id": "ff362009",
   "metadata": {},
   "outputs": [
    {
     "name": "stdout",
     "output_type": "stream",
     "text": [
      "[[1 3]\n",
      " [3 3]]\n",
      "[[6 8]\n",
      " [8 8]]\n",
      "[[2 4]\n",
      " [5 5]]\n"
     ]
    }
   ],
   "source": [
    "# Broadcasting facilitates operations with matrices\n",
    "a = np.random.randint(4, size=(2,2))\n",
    "print(a)\n",
    "print(a+5)\n",
    "\n",
    "# Same if you want to add columns or rows\n",
    "b = [[1],[2]]\n",
    "print(a+b)"
   ]
  },
  {
   "cell_type": "code",
   "execution_count": 77,
   "id": "aa2d6d94",
   "metadata": {},
   "outputs": [
    {
     "name": "stdout",
     "output_type": "stream",
     "text": [
      "[[1 0]\n",
      " [3 1]]\n",
      "[[2 1]\n",
      " [0 2]]\n",
      "[[1 0]\n",
      " [3 1]\n",
      " [2 1]\n",
      " [0 2]]\n",
      "[[1 0 2 1]\n",
      " [3 1 0 2]]\n"
     ]
    }
   ],
   "source": [
    "# Concatenete arrays horizontally or vertically with np.hstack and np.vstack\n",
    "a = np.random.randint(4,size=(2,2))\n",
    "b = np.random.randint(4,size=(2,2))\n",
    "print(a)\n",
    "print(b)\n",
    "print(np.vstack((a,b)))\n",
    "print(np.hstack((a,b)))"
   ]
  },
  {
   "cell_type": "code",
   "execution_count": 83,
   "id": "2460877c",
   "metadata": {},
   "outputs": [
    {
     "name": "stdout",
     "output_type": "stream",
     "text": [
      "94.7 ms ± 1.45 ms per loop (mean ± std. dev. of 7 runs, 10 loops each)\n",
      "292 µs ± 5.46 µs per loop (mean ± std. dev. of 7 runs, 1000 loops each)\n"
     ]
    }
   ],
   "source": [
    "# Numpy implementation (universal functions, ufuncs) is usually faster than python built-in functions\n",
    "# ufuncs use vectorization instead of iteration\n",
    "a = np.random.rand(1000000)\n",
    "%timeit sum(a)\n",
    "%timeit np.sum(a)"
   ]
  }
 ],
 "metadata": {
  "kernelspec": {
   "display_name": "Python 3",
   "language": "python",
   "name": "python3"
  },
  "language_info": {
   "codemirror_mode": {
    "name": "ipython",
    "version": 3
   },
   "file_extension": ".py",
   "mimetype": "text/x-python",
   "name": "python",
   "nbconvert_exporter": "python",
   "pygments_lexer": "ipython3",
   "version": "3.9.2"
  }
 },
 "nbformat": 4,
 "nbformat_minor": 5
}
