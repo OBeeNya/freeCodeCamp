{
 "cells": [
  {
   "cell_type": "code",
   "execution_count": 2,
   "id": "862ccb6e",
   "metadata": {},
   "outputs": [],
   "source": [
    "# All elements in np.array must be of the same type / homogeneous"
   ]
  },
  {
   "cell_type": "code",
   "execution_count": 27,
   "id": "aac25018",
   "metadata": {},
   "outputs": [
    {
     "data": {
      "text/plain": [
       "(array([1, 2, 3, 4]), array([1, 2, 3, 4]))"
      ]
     },
     "execution_count": 27,
     "metadata": {},
     "output_type": "execute_result"
    }
   ],
   "source": [
    "# An array can be defined from either a list or a tuple\n",
    "import numpy as np\n",
    "a = np.array([1,2,3,4])\n",
    "b = np.array((1,2,3,4))\n",
    "a, b"
   ]
  },
  {
   "cell_type": "code",
   "execution_count": 28,
   "id": "bbf53f41",
   "metadata": {},
   "outputs": [
    {
     "data": {
      "text/plain": [
       "(array([1., 2., 3., 4.], dtype=float32), array([1, 2, 3, 4], dtype=int32))"
      ]
     },
     "execution_count": 28,
     "metadata": {},
     "output_type": "execute_result"
    }
   ],
   "source": [
    "# You can manually specify the data type of an array\n",
    "a = np.array([1,2,3,4], dtype='f')\n",
    "b = np.array([1,2,3,4], dtype='i')\n",
    "a, b"
   ]
  },
  {
   "cell_type": "code",
   "execution_count": 29,
   "id": "b6e50d98",
   "metadata": {},
   "outputs": [
    {
     "data": {
      "text/plain": [
       "3"
      ]
     },
     "execution_count": 29,
     "metadata": {},
     "output_type": "execute_result"
    }
   ],
   "source": [
    "# The dimension of an array corresponds to the number of indexes necessary to access the deepest element\n",
    "a = np.array([[[1,2,3],[4,5,6]],[[1,2,3],[4,5,6]]])\n",
    "a.ndim"
   ]
  },
  {
   "cell_type": "code",
   "execution_count": 6,
   "id": "b44e30af",
   "metadata": {},
   "outputs": [],
   "source": [
    "# All \"sub-arrays\" must have the same number of elements\n",
    "# Think of matrices, where each line inside a matrix must have the same length\n",
    "# a = np.array([[1,2,3],[4,5,6,7]]) is not valid"
   ]
  },
  {
   "cell_type": "code",
   "execution_count": 30,
   "id": "5b0a261c",
   "metadata": {},
   "outputs": [
    {
     "name": "stdout",
     "output_type": "stream",
     "text": [
      "(2, 2, 3)\n",
      "3\n",
      "12\n",
      "6\n",
      "48\n",
      "24\n"
     ]
    }
   ],
   "source": [
    "a = np.array([[[1,2,3],[4,5,6]],[[1,2,3],[4,5,6]]])\n",
    "\n",
    "# The shape attribute returns the number of elements at each dimension\n",
    "print(a.shape)\n",
    "# or the number of elements at a given dimension\n",
    "print(a.shape[2])\n",
    "\n",
    "# The size attribute returns the total number of elements\n",
    "print(a.size)\n",
    "# or the number of elements inside a given dimension\n",
    "print(a[1].size)\n",
    "\n",
    "# The nbytes attributes returns the total number of bytes taken by a structure\n",
    "print(a.nbytes)\n",
    "# or taken by a given dimension\n",
    "print(a[1].nbytes)\n",
    "\n",
    "# Type \"a.\" + tab to see the list of attributes you can use on an array"
   ]
  },
  {
   "cell_type": "code",
   "execution_count": 8,
   "id": "0e3f7daf",
   "metadata": {},
   "outputs": [],
   "source": [
    "# Numpy provides a number of different ways to create / manage arrays"
   ]
  },
  {
   "cell_type": "code",
   "execution_count": 31,
   "id": "771cd75f",
   "metadata": {
    "tags": []
   },
   "outputs": [
    {
     "data": {
      "text/plain": [
       "array([0, 1, 2, 3, 4, 5, 6, 7, 8, 9])"
      ]
     },
     "execution_count": 31,
     "metadata": {},
     "output_type": "execute_result"
    }
   ],
   "source": [
    "# np.arange(n) creates a 1-dim array of length n with values from 0 to n-1\n",
    "np.arange(10)"
   ]
  },
  {
   "cell_type": "code",
   "execution_count": 32,
   "id": "6a761912",
   "metadata": {},
   "outputs": [
    {
     "data": {
      "text/plain": [
       "array([5, 6, 7, 8, 9])"
      ]
     },
     "execution_count": 32,
     "metadata": {},
     "output_type": "execute_result"
    }
   ],
   "source": [
    "# You can specify the starting value\n",
    "np.arange(5,10)"
   ]
  },
  {
   "cell_type": "code",
   "execution_count": 33,
   "id": "43ead5d4",
   "metadata": {},
   "outputs": [
    {
     "data": {
      "text/plain": [
       "array([5, 7, 9])"
      ]
     },
     "execution_count": 33,
     "metadata": {},
     "output_type": "execute_result"
    }
   ],
   "source": [
    "# as well as the steps\n",
    "np.arange(5,10,2)"
   ]
  },
  {
   "cell_type": "code",
   "execution_count": 34,
   "id": "ac3838f7",
   "metadata": {},
   "outputs": [
    {
     "data": {
      "text/plain": [
       "array([6, 4, 2, 5, 3, 7, 1, 9, 8, 0])"
      ]
     },
     "execution_count": 34,
     "metadata": {},
     "output_type": "execute_result"
    }
   ],
   "source": [
    "# np.random.permutation returns a randomly shuffled version of an array\n",
    "np.random.permutation(np.arange(10))"
   ]
  },
  {
   "cell_type": "code",
   "execution_count": 35,
   "id": "74d926eb",
   "metadata": {},
   "outputs": [
    {
     "data": {
      "text/plain": [
       "17"
      ]
     },
     "execution_count": 35,
     "metadata": {},
     "output_type": "execute_result"
    }
   ],
   "source": [
    "# np.random.randint returns a random integer in a range\n",
    "np.random.randint(10,20)"
   ]
  },
  {
   "cell_type": "code",
   "execution_count": 36,
   "id": "3e9ec58e",
   "metadata": {},
   "outputs": [
    {
     "data": {
      "text/plain": [
       "array([0.93191444, 0.61905257, 0.65848226, 0.40193675, 0.79342937])"
      ]
     },
     "execution_count": 36,
     "metadata": {},
     "output_type": "execute_result"
    }
   ],
   "source": [
    "# np.random.rand returns random numbers between 0 and 1, uniformly distributed\n",
    "np.random.rand(5)"
   ]
  },
  {
   "cell_type": "code",
   "execution_count": 37,
   "id": "be4d3ca3",
   "metadata": {},
   "outputs": [
    {
     "data": {
      "text/plain": [
       "array([[0.893017  , 0.49252975, 0.76385469],\n",
       "       [0.03172893, 0.77711092, 0.22700993]])"
      ]
     },
     "execution_count": 37,
     "metadata": {},
     "output_type": "execute_result"
    }
   ],
   "source": [
    "# You can specify the dimensions of the random matrix\n",
    "np.random.rand(2,3)"
   ]
  },
  {
   "cell_type": "code",
   "execution_count": 38,
   "id": "5844f5ad",
   "metadata": {},
   "outputs": [
    {
     "data": {
      "text/plain": [
       "array([-0.79642153, -1.02409158, -0.41428763,  0.01046944,  0.24627822])"
      ]
     },
     "execution_count": 38,
     "metadata": {},
     "output_type": "execute_result"
    }
   ],
   "source": [
    "# np.random.randn returns random normal numbers, gaussian distribution\n",
    "np.random.randn(5)"
   ]
  },
  {
   "cell_type": "code",
   "execution_count": 11,
   "id": "613f8d8b",
   "metadata": {},
   "outputs": [
    {
     "name": "stdout",
     "output_type": "stream",
     "text": [
      "[[[1 2 3]\n",
      "  [4 5 6]]\n",
      "\n",
      " [[1 2 3]\n",
      "  [4 5 6]]]\n",
      "(2, 2, 3)\n",
      "[[1 2]\n",
      " [3 4]\n",
      " [5 6]\n",
      " [1 2]\n",
      " [3 4]\n",
      " [5 6]]\n"
     ]
    }
   ],
   "source": [
    "# .reshape takes all the elements of an array and reshape it to the specified dimensions\n",
    "a = np.array([[[1,2,3],[4,5,6]],[[1,2,3],[4,5,6]]])\n",
    "print(a)\n",
    "print(a.shape)\n",
    "\n",
    "b = a.reshape(6,2)\n",
    "print(b)\n",
    "\n",
    "# The reshaped array must have the same size"
   ]
  },
  {
   "cell_type": "code",
   "execution_count": 39,
   "id": "122b4534",
   "metadata": {},
   "outputs": [
    {
     "data": {
      "text/plain": [
       "array([[0., 0., 0.],\n",
       "       [0., 0., 0.]])"
      ]
     },
     "execution_count": 39,
     "metadata": {},
     "output_type": "execute_result"
    }
   ],
   "source": [
    "# np.zeros returns an array/matrix filled with zeros\n",
    "np.zeros((2,3))"
   ]
  },
  {
   "cell_type": "code",
   "execution_count": 40,
   "id": "b334f459",
   "metadata": {},
   "outputs": [
    {
     "data": {
      "text/plain": [
       "array([[1., 1., 1.],\n",
       "       [1., 1., 1.]])"
      ]
     },
     "execution_count": 40,
     "metadata": {},
     "output_type": "execute_result"
    }
   ],
   "source": [
    "# np.ones returns an array/matrix filled with ones\n",
    "np.ones((2,3))"
   ]
  },
  {
   "cell_type": "code",
   "execution_count": 13,
   "id": "86ea94ce",
   "metadata": {},
   "outputs": [
    {
     "name": "stdout",
     "output_type": "stream",
     "text": [
      "[6, 3, 4]\n",
      "[1, 2, 3, 4, 5]\n",
      "[6 3 4]\n",
      "[1 6 3 4 5]\n",
      "[6 3 4]\n",
      "[1 2 3 4 5]\n"
     ]
    }
   ],
   "source": [
    "# An important difference between slicing lists and slicing np arrays:\n",
    "# slicing a list creates a copy while when slicing a np array , you're accessing the same memory view\n",
    "a = [1,2,3,4,5]\n",
    "b = a[1:4]\n",
    "b[0] = 6\n",
    "print(b)\n",
    "print(a) # a is not modified\n",
    "\n",
    "a = np.array([1,2,3,4,5])\n",
    "b = a[1:4]\n",
    "b[0] = 6\n",
    "print(b)\n",
    "print(a) # a is modified\n",
    "\n",
    "# To prevent that you can make a copy of the np array:\n",
    "a = np.array([1,2,3,4,5])\n",
    "b = a[1:4].copy()\n",
    "b[0] = 6\n",
    "print(b)\n",
    "print(a) # a is not modified"
   ]
  },
  {
   "cell_type": "code",
   "execution_count": 41,
   "id": "7cc2991c",
   "metadata": {},
   "outputs": [
    {
     "data": {
      "text/plain": [
       "array([[25]], dtype=int64)"
      ]
     },
     "execution_count": 41,
     "metadata": {},
     "output_type": "execute_result"
    }
   ],
   "source": [
    "# You can find the indices of a value in an array with np.argwhere\n",
    "a = np.arange(50)\n",
    "idx = np.argwhere(a==25)\n",
    "idx"
   ]
  },
  {
   "cell_type": "code",
   "execution_count": 15,
   "id": "719f6c72",
   "metadata": {},
   "outputs": [
    {
     "name": "stdout",
     "output_type": "stream",
     "text": [
      "[[15  5  8 14]\n",
      " [14  4 12  2]\n",
      " [ 0  5  4  9]\n",
      " [12 13  1 10]]\n",
      "[[15 14  0 12]\n",
      " [ 5  4  5 13]\n",
      " [ 8 12  4  1]\n",
      " [14  2  9 10]]\n"
     ]
    }
   ],
   "source": [
    "# .T to transpose a matrix\n",
    "a = np.random.randint(16,size=(4,4))\n",
    "print(a)\n",
    "print(a.T)"
   ]
  },
  {
   "cell_type": "code",
   "execution_count": 16,
   "id": "8b7ef64b",
   "metadata": {},
   "outputs": [
    {
     "name": "stdout",
     "output_type": "stream",
     "text": [
      "[[ 0.05233434 -0.00207078 -0.10353916  0.02033133]\n",
      " [-0.10253514  0.04122741  0.06137048  0.08007028]\n",
      " [-0.03928213  0.08189006  0.09450301 -0.04643574]\n",
      " [ 0.07442269 -0.0592997   0.03501506 -0.02384538]]\n",
      "[[ 1.00000000e+00  0.00000000e+00 -1.11022302e-16  5.55111512e-17]\n",
      " [ 2.77555756e-17  1.00000000e+00  1.11022302e-16  1.52655666e-16]\n",
      " [ 0.00000000e+00  0.00000000e+00  1.00000000e+00 -2.77555756e-17]\n",
      " [ 0.00000000e+00  0.00000000e+00  0.00000000e+00  1.00000000e+00]]\n"
     ]
    }
   ],
   "source": [
    "# numpy.linalg provides a lot of linear algebra functions\n",
    "import numpy.linalg as la\n",
    "print(la.inv(a))\n",
    "print(a.dot(la.inv(a)))"
   ]
  },
  {
   "cell_type": "code",
   "execution_count": 17,
   "id": "fe39620c",
   "metadata": {},
   "outputs": [
    {
     "name": "stdout",
     "output_type": "stream",
     "text": [
      "[[ 0  4  1  2]\n",
      " [12  5  4  9]\n",
      " [14  5  8 10]\n",
      " [15 13 12 14]]\n",
      "[[ 0  1  2  4]\n",
      " [ 4  5  9 12]\n",
      " [ 5  8 10 14]\n",
      " [12 13 14 15]]\n"
     ]
    }
   ],
   "source": [
    "# You can act specifically on rows or columns\n",
    "a.sort(axis=0)\n",
    "print(a)\n",
    "a.sort(axis=1)\n",
    "print(a)"
   ]
  },
  {
   "cell_type": "code",
   "execution_count": 44,
   "id": "0f98c583",
   "metadata": {},
   "outputs": [],
   "source": [
    "# Other powerful indexing actions"
   ]
  },
  {
   "cell_type": "code",
   "execution_count": 45,
   "id": "28ea141f",
   "metadata": {},
   "outputs": [
    {
     "data": {
      "text/plain": [
       "array([3, 5])"
      ]
     },
     "execution_count": 45,
     "metadata": {},
     "output_type": "execute_result"
    }
   ],
   "source": [
    "# By using an index array, you can specifically tell which index you want\n",
    "a = np.array([1,2,3,4,5])\n",
    "a[[2,4]]"
   ]
  },
  {
   "cell_type": "code",
   "execution_count": 43,
   "id": "20824b1d",
   "metadata": {},
   "outputs": [
    {
     "data": {
      "text/plain": [
       "array([1, 3, 5])"
      ]
     },
     "execution_count": 43,
     "metadata": {},
     "output_type": "execute_result"
    }
   ],
   "source": [
    "# You can use booleans with an index array to specify which index you're interested in\n",
    "a[[True, False, True, False, True]]"
   ]
  },
  {
   "cell_type": "code",
   "execution_count": null,
   "id": "e79a5fe5",
   "metadata": {},
   "outputs": [],
   "source": [
    "# When using an index array (or masking), you're making a copy and not just viewing the array"
   ]
  },
  {
   "cell_type": "code",
   "execution_count": 46,
   "id": "0b3a8277",
   "metadata": {},
   "outputs": [
    {
     "data": {
      "text/plain": [
       "array([ True,  True,  True, False, False])"
      ]
     },
     "execution_count": 46,
     "metadata": {},
     "output_type": "execute_result"
    }
   ],
   "source": [
    "# You can create a boolean array with a condition\n",
    "a<4"
   ]
  },
  {
   "cell_type": "code",
   "execution_count": 47,
   "id": "ef93e8cb",
   "metadata": {},
   "outputs": [
    {
     "data": {
      "text/plain": [
       "array([False, False,  True,  True, False])"
      ]
     },
     "execution_count": 47,
     "metadata": {},
     "output_type": "execute_result"
    }
   ],
   "source": [
    "# You can use &, |, ~ (not and, or, not) in arrays to combine conditions\n",
    "(a>2) & (a<5)"
   ]
  },
  {
   "cell_type": "code",
   "execution_count": 25,
   "id": "1a7b848a",
   "metadata": {},
   "outputs": [
    {
     "name": "stdout",
     "output_type": "stream",
     "text": [
      "[[2 0]\n",
      " [3 3]]\n",
      "[[7 5]\n",
      " [8 8]]\n"
     ]
    }
   ],
   "source": [
    "# Broadcasting facilitates operations with matrices\n",
    "a = np.random.randint(4, size=(2,2))\n",
    "print(a)\n",
    "print(a+5)"
   ]
  },
  {
   "cell_type": "code",
   "execution_count": 26,
   "id": "ad081a05",
   "metadata": {},
   "outputs": [
    {
     "data": {
      "text/plain": [
       "array([[3, 1],\n",
       "       [5, 5]])"
      ]
     },
     "execution_count": 26,
     "metadata": {},
     "output_type": "execute_result"
    }
   ],
   "source": [
    "# Same if you want to add columns or rows\n",
    "b = [[1],[2]]\n",
    "a+b"
   ]
  },
  {
   "cell_type": "code",
   "execution_count": 21,
   "id": "bc26242b",
   "metadata": {},
   "outputs": [
    {
     "name": "stdout",
     "output_type": "stream",
     "text": [
      "[[1 2]\n",
      " [0 2]]\n",
      "[[1 1]\n",
      " [3 1]]\n",
      "[[1 2]\n",
      " [0 2]\n",
      " [1 1]\n",
      " [3 1]]\n",
      "[[1 2 1 1]\n",
      " [0 2 3 1]]\n"
     ]
    }
   ],
   "source": [
    "# Concatenete arrays horizontally or vertically with np.hstack and np.vstack\n",
    "a = np.random.randint(4,size=(2,2))\n",
    "b = np.random.randint(4,size=(2,2))\n",
    "print(a)\n",
    "print(b)\n",
    "print(np.vstack((a,b)))\n",
    "print(np.hstack((a,b)))"
   ]
  },
  {
   "cell_type": "code",
   "execution_count": 22,
   "id": "927d8c9d",
   "metadata": {},
   "outputs": [
    {
     "name": "stdout",
     "output_type": "stream",
     "text": [
      "91.3 ms ± 884 µs per loop (mean ± std. dev. of 7 runs, 10 loops each)\n",
      "275 µs ± 674 ns per loop (mean ± std. dev. of 7 runs, 1000 loops each)\n"
     ]
    }
   ],
   "source": [
    "# Numpy implementation (universal functions, ufuncs) is usually faster than python built-in functions\n",
    "# ufuncs use vectorization instead of iteration\n",
    "a = np.random.rand(1000000)\n",
    "%timeit sum(a)\n",
    "%timeit np.sum(a)"
   ]
  }
 ],
 "metadata": {
  "kernelspec": {
   "display_name": "Python 3",
   "language": "python",
   "name": "python3"
  },
  "language_info": {
   "codemirror_mode": {
    "name": "ipython",
    "version": 3
   },
   "file_extension": ".py",
   "mimetype": "text/x-python",
   "name": "python",
   "nbconvert_exporter": "python",
   "pygments_lexer": "ipython3",
   "version": "3.9.2"
  }
 },
 "nbformat": 4,
 "nbformat_minor": 5
}
